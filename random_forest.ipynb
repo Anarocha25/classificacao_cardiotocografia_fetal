{
 "cells": [
  {
   "cell_type": "code",
   "execution_count": 1,
   "metadata": {
    "colab": {
     "base_uri": "https://localhost:8080/"
    },
    "executionInfo": {
     "elapsed": 2964,
     "status": "ok",
     "timestamp": 1620070051305,
     "user": {
      "displayName": "João Victor Assis",
      "photoUrl": "https://lh5.googleusercontent.com/-XenDusurpMw/AAAAAAAAAAI/AAAAAAAAMOA/Ns5G1bCb9x4/s64/photo.jpg",
      "userId": "05944891021518543746"
     },
     "user_tz": 180
    },
    "id": "j0sB9vH__VMD",
    "outputId": "06463105-7f98-4c92-bb7a-25b770cb861e"
   },
   "outputs": [],
   "source": [
    "import pandas as pd\n",
    "import matplotlib.pyplot as plt \n",
    "import numpy as np\n",
    "import seaborn as sns\n",
    "\n",
    "from sklearn.model_selection import train_test_split\n",
    "from sklearn import preprocessing\n",
    "from sklearn.preprocessing import StandardScaler\n",
    "from sklearn.feature_selection import SelectKBest\n",
    "\n",
    "from imblearn.over_sampling import SMOTE\n",
    "from sklearn.linear_model import LogisticRegression\n",
    "from sklearn.ensemble import RandomForestClassifier\n",
    "from sklearn.model_selection import train_test_split\n",
    "from sklearn.metrics import precision_score, recall_score, confusion_matrix, classification_report, accuracy_score, f1_score"
   ]
  },
  {
   "cell_type": "code",
   "execution_count": 2,
   "metadata": {
    "executionInfo": {
     "elapsed": 602,
     "status": "ok",
     "timestamp": 1620070097096,
     "user": {
      "displayName": "João Victor Assis",
      "photoUrl": "https://lh5.googleusercontent.com/-XenDusurpMw/AAAAAAAAAAI/AAAAAAAAMOA/Ns5G1bCb9x4/s64/photo.jpg",
      "userId": "05944891021518543746"
     },
     "user_tz": 180
    },
    "id": "TztRmC01_VMJ"
   },
   "outputs": [],
   "source": [
    "df = pd.read_csv('xscaled.csv')"
   ]
  },
  {
   "cell_type": "code",
   "execution_count": 3,
   "metadata": {
    "executionInfo": {
     "elapsed": 1008,
     "status": "ok",
     "timestamp": 1620070098792,
     "user": {
      "displayName": "João Victor Assis",
      "photoUrl": "https://lh5.googleusercontent.com/-XenDusurpMw/AAAAAAAAAAI/AAAAAAAAMOA/Ns5G1bCb9x4/s64/photo.jpg",
      "userId": "05944891021518543746"
     },
     "user_tz": 180
    },
    "id": "4bkj8Bpd_VMK"
   },
   "outputs": [],
   "source": [
    "X = df.drop(\"fetal_health\", axis = 1)\n",
    "y = df.fetal_health"
   ]
  },
  {
   "cell_type": "code",
   "execution_count": 4,
   "metadata": {
    "colab": {
     "base_uri": "https://localhost:8080/",
     "height": 427
    },
    "executionInfo": {
     "elapsed": 621,
     "status": "ok",
     "timestamp": 1620070099821,
     "user": {
      "displayName": "João Victor Assis",
      "photoUrl": "https://lh5.googleusercontent.com/-XenDusurpMw/AAAAAAAAAAI/AAAAAAAAMOA/Ns5G1bCb9x4/s64/photo.jpg",
      "userId": "05944891021518543746"
     },
     "user_tz": 180
    },
    "id": "GNeO2I7N_VMK",
    "outputId": "bc7d0f73-ad10-43fc-9fbf-fa65f5d07efe"
   },
   "outputs": [
    {
     "data": {
      "text/html": [
       "<div>\n",
       "<style scoped>\n",
       "    .dataframe tbody tr th:only-of-type {\n",
       "        vertical-align: middle;\n",
       "    }\n",
       "\n",
       "    .dataframe tbody tr th {\n",
       "        vertical-align: top;\n",
       "    }\n",
       "\n",
       "    .dataframe thead th {\n",
       "        text-align: right;\n",
       "    }\n",
       "</style>\n",
       "<table border=\"1\" class=\"dataframe\">\n",
       "  <thead>\n",
       "    <tr style=\"text-align: right;\">\n",
       "      <th></th>\n",
       "      <th>baseline value</th>\n",
       "      <th>accelerations</th>\n",
       "      <th>fetal_movement</th>\n",
       "      <th>uterine_contractions</th>\n",
       "      <th>light_decelerations</th>\n",
       "      <th>severe_decelerations</th>\n",
       "      <th>prolongued_decelerations</th>\n",
       "      <th>abnormal_short_term_variability</th>\n",
       "      <th>mean_value_of_short_term_variability</th>\n",
       "      <th>percentage_of_time_with_abnormal_long_term_variability</th>\n",
       "      <th>...</th>\n",
       "      <th>histogram_width</th>\n",
       "      <th>histogram_min</th>\n",
       "      <th>histogram_max</th>\n",
       "      <th>histogram_number_of_peaks</th>\n",
       "      <th>histogram_number_of_zeroes</th>\n",
       "      <th>histogram_mode</th>\n",
       "      <th>histogram_mean</th>\n",
       "      <th>histogram_median</th>\n",
       "      <th>histogram_variance</th>\n",
       "      <th>histogram_tendency</th>\n",
       "    </tr>\n",
       "  </thead>\n",
       "  <tbody>\n",
       "    <tr>\n",
       "      <th>0</th>\n",
       "      <td>-1.352782</td>\n",
       "      <td>-0.823776</td>\n",
       "      <td>-0.203392</td>\n",
       "      <td>-1.492245</td>\n",
       "      <td>-0.641203</td>\n",
       "      <td>-0.057653</td>\n",
       "      <td>-0.26964</td>\n",
       "      <td>1.514300</td>\n",
       "      <td>-0.944425</td>\n",
       "      <td>1.811237</td>\n",
       "      <td>...</td>\n",
       "      <td>-0.167577</td>\n",
       "      <td>-1.067985</td>\n",
       "      <td>-2.123628</td>\n",
       "      <td>-0.703885</td>\n",
       "      <td>-0.460150</td>\n",
       "      <td>-1.064409</td>\n",
       "      <td>0.153804</td>\n",
       "      <td>-1.180575</td>\n",
       "      <td>1.863218</td>\n",
       "      <td>1.115505</td>\n",
       "    </tr>\n",
       "    <tr>\n",
       "      <th>1</th>\n",
       "      <td>-0.132665</td>\n",
       "      <td>0.726444</td>\n",
       "      <td>-0.203392</td>\n",
       "      <td>0.548605</td>\n",
       "      <td>0.370643</td>\n",
       "      <td>-0.057653</td>\n",
       "      <td>-0.26964</td>\n",
       "      <td>-1.746497</td>\n",
       "      <td>0.865205</td>\n",
       "      <td>-0.534294</td>\n",
       "      <td>...</td>\n",
       "      <td>1.524797</td>\n",
       "      <td>-0.864976</td>\n",
       "      <td>1.889542</td>\n",
       "      <td>0.651603</td>\n",
       "      <td>0.953071</td>\n",
       "      <td>0.216224</td>\n",
       "      <td>0.089729</td>\n",
       "      <td>0.131985</td>\n",
       "      <td>-0.237919</td>\n",
       "      <td>-0.521344</td>\n",
       "    </tr>\n",
       "    <tr>\n",
       "      <th>2</th>\n",
       "      <td>-0.030989</td>\n",
       "      <td>-0.048666</td>\n",
       "      <td>-0.203392</td>\n",
       "      <td>1.228888</td>\n",
       "      <td>0.370643</td>\n",
       "      <td>-0.057653</td>\n",
       "      <td>-0.26964</td>\n",
       "      <td>-1.804726</td>\n",
       "      <td>0.865205</td>\n",
       "      <td>-0.534294</td>\n",
       "      <td>...</td>\n",
       "      <td>1.524797</td>\n",
       "      <td>-0.864976</td>\n",
       "      <td>1.889542</td>\n",
       "      <td>0.312731</td>\n",
       "      <td>0.953071</td>\n",
       "      <td>0.216224</td>\n",
       "      <td>0.025654</td>\n",
       "      <td>-0.006179</td>\n",
       "      <td>-0.203474</td>\n",
       "      <td>-0.521344</td>\n",
       "    </tr>\n",
       "    <tr>\n",
       "      <th>3</th>\n",
       "      <td>0.070687</td>\n",
       "      <td>-0.048666</td>\n",
       "      <td>-0.203392</td>\n",
       "      <td>1.228888</td>\n",
       "      <td>0.370643</td>\n",
       "      <td>-0.057653</td>\n",
       "      <td>-0.26964</td>\n",
       "      <td>-1.804726</td>\n",
       "      <td>1.204511</td>\n",
       "      <td>-0.534294</td>\n",
       "      <td>...</td>\n",
       "      <td>1.191450</td>\n",
       "      <td>-1.372500</td>\n",
       "      <td>0.328865</td>\n",
       "      <td>2.345964</td>\n",
       "      <td>-0.460150</td>\n",
       "      <td>-0.027706</td>\n",
       "      <td>-0.038421</td>\n",
       "      <td>-0.075261</td>\n",
       "      <td>-0.203474</td>\n",
       "      <td>1.115505</td>\n",
       "    </tr>\n",
       "    <tr>\n",
       "      <th>4</th>\n",
       "      <td>-0.132665</td>\n",
       "      <td>0.984814</td>\n",
       "      <td>-0.203392</td>\n",
       "      <td>1.228888</td>\n",
       "      <td>-0.641203</td>\n",
       "      <td>-0.057653</td>\n",
       "      <td>-0.26964</td>\n",
       "      <td>-1.804726</td>\n",
       "      <td>1.204511</td>\n",
       "      <td>-0.534294</td>\n",
       "      <td>...</td>\n",
       "      <td>1.191450</td>\n",
       "      <td>-1.372500</td>\n",
       "      <td>0.328865</td>\n",
       "      <td>1.668219</td>\n",
       "      <td>-0.460150</td>\n",
       "      <td>-0.027706</td>\n",
       "      <td>0.089729</td>\n",
       "      <td>-0.006179</td>\n",
       "      <td>-0.272364</td>\n",
       "      <td>1.115505</td>\n",
       "    </tr>\n",
       "    <tr>\n",
       "      <th>...</th>\n",
       "      <td>...</td>\n",
       "      <td>...</td>\n",
       "      <td>...</td>\n",
       "      <td>...</td>\n",
       "      <td>...</td>\n",
       "      <td>...</td>\n",
       "      <td>...</td>\n",
       "      <td>...</td>\n",
       "      <td>...</td>\n",
       "      <td>...</td>\n",
       "      <td>...</td>\n",
       "      <td>...</td>\n",
       "      <td>...</td>\n",
       "      <td>...</td>\n",
       "      <td>...</td>\n",
       "      <td>...</td>\n",
       "      <td>...</td>\n",
       "      <td>...</td>\n",
       "      <td>...</td>\n",
       "      <td>...</td>\n",
       "      <td>...</td>\n",
       "    </tr>\n",
       "    <tr>\n",
       "      <th>2108</th>\n",
       "      <td>0.680746</td>\n",
       "      <td>-0.823776</td>\n",
       "      <td>-0.203392</td>\n",
       "      <td>0.888747</td>\n",
       "      <td>-0.641203</td>\n",
       "      <td>-0.057653</td>\n",
       "      <td>-0.26964</td>\n",
       "      <td>1.863671</td>\n",
       "      <td>-1.283731</td>\n",
       "      <td>0.829387</td>\n",
       "      <td>...</td>\n",
       "      <td>-0.782986</td>\n",
       "      <td>1.469633</td>\n",
       "      <td>0.719034</td>\n",
       "      <td>-0.026141</td>\n",
       "      <td>-0.460150</td>\n",
       "      <td>0.948014</td>\n",
       "      <td>0.986778</td>\n",
       "      <td>0.960970</td>\n",
       "      <td>-0.582368</td>\n",
       "      <td>-0.521344</td>\n",
       "    </tr>\n",
       "    <tr>\n",
       "      <th>2109</th>\n",
       "      <td>0.680746</td>\n",
       "      <td>-0.565406</td>\n",
       "      <td>-0.203392</td>\n",
       "      <td>0.888747</td>\n",
       "      <td>-0.641203</td>\n",
       "      <td>-0.057653</td>\n",
       "      <td>-0.26964</td>\n",
       "      <td>1.805442</td>\n",
       "      <td>-1.057527</td>\n",
       "      <td>0.665745</td>\n",
       "      <td>...</td>\n",
       "      <td>-0.116293</td>\n",
       "      <td>0.319246</td>\n",
       "      <td>0.273126</td>\n",
       "      <td>0.651603</td>\n",
       "      <td>-0.460150</td>\n",
       "      <td>0.887031</td>\n",
       "      <td>0.858628</td>\n",
       "      <td>0.891888</td>\n",
       "      <td>-0.547923</td>\n",
       "      <td>1.115505</td>\n",
       "    </tr>\n",
       "    <tr>\n",
       "      <th>2110</th>\n",
       "      <td>0.680746</td>\n",
       "      <td>-0.565406</td>\n",
       "      <td>-0.203392</td>\n",
       "      <td>0.888747</td>\n",
       "      <td>-0.641203</td>\n",
       "      <td>-0.057653</td>\n",
       "      <td>-0.26964</td>\n",
       "      <td>1.863671</td>\n",
       "      <td>-1.057527</td>\n",
       "      <td>0.556650</td>\n",
       "      <td>...</td>\n",
       "      <td>-0.090651</td>\n",
       "      <td>0.319246</td>\n",
       "      <td>0.328865</td>\n",
       "      <td>0.312731</td>\n",
       "      <td>-0.460150</td>\n",
       "      <td>0.948014</td>\n",
       "      <td>0.858628</td>\n",
       "      <td>0.960970</td>\n",
       "      <td>-0.513478</td>\n",
       "      <td>1.115505</td>\n",
       "    </tr>\n",
       "    <tr>\n",
       "      <th>2111</th>\n",
       "      <td>0.680746</td>\n",
       "      <td>-0.565406</td>\n",
       "      <td>-0.203392</td>\n",
       "      <td>0.548605</td>\n",
       "      <td>-0.641203</td>\n",
       "      <td>-0.057653</td>\n",
       "      <td>-0.26964</td>\n",
       "      <td>1.805442</td>\n",
       "      <td>-1.057527</td>\n",
       "      <td>0.938481</td>\n",
       "      <td>...</td>\n",
       "      <td>-0.116293</td>\n",
       "      <td>0.319246</td>\n",
       "      <td>0.273126</td>\n",
       "      <td>0.651603</td>\n",
       "      <td>-0.460150</td>\n",
       "      <td>0.887031</td>\n",
       "      <td>0.794553</td>\n",
       "      <td>0.891888</td>\n",
       "      <td>-0.513478</td>\n",
       "      <td>1.115505</td>\n",
       "    </tr>\n",
       "    <tr>\n",
       "      <th>2112</th>\n",
       "      <td>0.884099</td>\n",
       "      <td>-0.307036</td>\n",
       "      <td>-0.160651</td>\n",
       "      <td>1.228888</td>\n",
       "      <td>-0.641203</td>\n",
       "      <td>-0.057653</td>\n",
       "      <td>-0.26964</td>\n",
       "      <td>1.572528</td>\n",
       "      <td>-1.057527</td>\n",
       "      <td>1.429406</td>\n",
       "      <td>...</td>\n",
       "      <td>-0.731702</td>\n",
       "      <td>0.792935</td>\n",
       "      <td>-0.284258</td>\n",
       "      <td>-0.703885</td>\n",
       "      <td>0.953071</td>\n",
       "      <td>0.460154</td>\n",
       "      <td>0.538254</td>\n",
       "      <td>0.477396</td>\n",
       "      <td>-0.616813</td>\n",
       "      <td>-0.521344</td>\n",
       "    </tr>\n",
       "  </tbody>\n",
       "</table>\n",
       "<p>2113 rows × 21 columns</p>\n",
       "</div>"
      ],
      "text/plain": [
       "      baseline value  accelerations  fetal_movement  uterine_contractions  \\\n",
       "0          -1.352782      -0.823776       -0.203392             -1.492245   \n",
       "1          -0.132665       0.726444       -0.203392              0.548605   \n",
       "2          -0.030989      -0.048666       -0.203392              1.228888   \n",
       "3           0.070687      -0.048666       -0.203392              1.228888   \n",
       "4          -0.132665       0.984814       -0.203392              1.228888   \n",
       "...              ...            ...             ...                   ...   \n",
       "2108        0.680746      -0.823776       -0.203392              0.888747   \n",
       "2109        0.680746      -0.565406       -0.203392              0.888747   \n",
       "2110        0.680746      -0.565406       -0.203392              0.888747   \n",
       "2111        0.680746      -0.565406       -0.203392              0.548605   \n",
       "2112        0.884099      -0.307036       -0.160651              1.228888   \n",
       "\n",
       "      light_decelerations  severe_decelerations  prolongued_decelerations  \\\n",
       "0               -0.641203             -0.057653                  -0.26964   \n",
       "1                0.370643             -0.057653                  -0.26964   \n",
       "2                0.370643             -0.057653                  -0.26964   \n",
       "3                0.370643             -0.057653                  -0.26964   \n",
       "4               -0.641203             -0.057653                  -0.26964   \n",
       "...                   ...                   ...                       ...   \n",
       "2108            -0.641203             -0.057653                  -0.26964   \n",
       "2109            -0.641203             -0.057653                  -0.26964   \n",
       "2110            -0.641203             -0.057653                  -0.26964   \n",
       "2111            -0.641203             -0.057653                  -0.26964   \n",
       "2112            -0.641203             -0.057653                  -0.26964   \n",
       "\n",
       "      abnormal_short_term_variability  mean_value_of_short_term_variability  \\\n",
       "0                            1.514300                             -0.944425   \n",
       "1                           -1.746497                              0.865205   \n",
       "2                           -1.804726                              0.865205   \n",
       "3                           -1.804726                              1.204511   \n",
       "4                           -1.804726                              1.204511   \n",
       "...                               ...                                   ...   \n",
       "2108                         1.863671                             -1.283731   \n",
       "2109                         1.805442                             -1.057527   \n",
       "2110                         1.863671                             -1.057527   \n",
       "2111                         1.805442                             -1.057527   \n",
       "2112                         1.572528                             -1.057527   \n",
       "\n",
       "      percentage_of_time_with_abnormal_long_term_variability  ...  \\\n",
       "0                                              1.811237       ...   \n",
       "1                                             -0.534294       ...   \n",
       "2                                             -0.534294       ...   \n",
       "3                                             -0.534294       ...   \n",
       "4                                             -0.534294       ...   \n",
       "...                                                 ...       ...   \n",
       "2108                                           0.829387       ...   \n",
       "2109                                           0.665745       ...   \n",
       "2110                                           0.556650       ...   \n",
       "2111                                           0.938481       ...   \n",
       "2112                                           1.429406       ...   \n",
       "\n",
       "      histogram_width  histogram_min  histogram_max  \\\n",
       "0           -0.167577      -1.067985      -2.123628   \n",
       "1            1.524797      -0.864976       1.889542   \n",
       "2            1.524797      -0.864976       1.889542   \n",
       "3            1.191450      -1.372500       0.328865   \n",
       "4            1.191450      -1.372500       0.328865   \n",
       "...               ...            ...            ...   \n",
       "2108        -0.782986       1.469633       0.719034   \n",
       "2109        -0.116293       0.319246       0.273126   \n",
       "2110        -0.090651       0.319246       0.328865   \n",
       "2111        -0.116293       0.319246       0.273126   \n",
       "2112        -0.731702       0.792935      -0.284258   \n",
       "\n",
       "      histogram_number_of_peaks  histogram_number_of_zeroes  histogram_mode  \\\n",
       "0                     -0.703885                   -0.460150       -1.064409   \n",
       "1                      0.651603                    0.953071        0.216224   \n",
       "2                      0.312731                    0.953071        0.216224   \n",
       "3                      2.345964                   -0.460150       -0.027706   \n",
       "4                      1.668219                   -0.460150       -0.027706   \n",
       "...                         ...                         ...             ...   \n",
       "2108                  -0.026141                   -0.460150        0.948014   \n",
       "2109                   0.651603                   -0.460150        0.887031   \n",
       "2110                   0.312731                   -0.460150        0.948014   \n",
       "2111                   0.651603                   -0.460150        0.887031   \n",
       "2112                  -0.703885                    0.953071        0.460154   \n",
       "\n",
       "      histogram_mean  histogram_median  histogram_variance  histogram_tendency  \n",
       "0           0.153804         -1.180575            1.863218            1.115505  \n",
       "1           0.089729          0.131985           -0.237919           -0.521344  \n",
       "2           0.025654         -0.006179           -0.203474           -0.521344  \n",
       "3          -0.038421         -0.075261           -0.203474            1.115505  \n",
       "4           0.089729         -0.006179           -0.272364            1.115505  \n",
       "...              ...               ...                 ...                 ...  \n",
       "2108        0.986778          0.960970           -0.582368           -0.521344  \n",
       "2109        0.858628          0.891888           -0.547923            1.115505  \n",
       "2110        0.858628          0.960970           -0.513478            1.115505  \n",
       "2111        0.794553          0.891888           -0.513478            1.115505  \n",
       "2112        0.538254          0.477396           -0.616813           -0.521344  \n",
       "\n",
       "[2113 rows x 21 columns]"
      ]
     },
     "execution_count": 4,
     "metadata": {},
     "output_type": "execute_result"
    }
   ],
   "source": [
    "X"
   ]
  },
  {
   "cell_type": "code",
   "execution_count": 5,
   "metadata": {
    "executionInfo": {
     "elapsed": 710,
     "status": "ok",
     "timestamp": 1620070103432,
     "user": {
      "displayName": "João Victor Assis",
      "photoUrl": "https://lh5.googleusercontent.com/-XenDusurpMw/AAAAAAAAAAI/AAAAAAAAMOA/Ns5G1bCb9x4/s64/photo.jpg",
      "userId": "05944891021518543746"
     },
     "user_tz": 180
    },
    "id": "ZeLXg9Up_VML"
   },
   "outputs": [],
   "source": [
    "vars_all = ['prolongued_decelerations', 'abnormal_short_term_variability', \\\n",
    "      'percentage_of_time_with_abnormal_long_term_variability', \\\n",
    "      'histogram_mean', 'histogram_mode', 'histogram_median', 'accelerations', \\\n",
    "      'histogram_variance', 'baseline value', 'mean_value_of_short_term_variability', \\\n",
    "      'uterine_contractions', 'histogram_min', 'mean_value_of_long_term_variability', \\\n",
    "      'light_decelerations', 'histogram_width']\n",
    "\n",
    "X_5_ = X[vars_all[:5]].copy()\n",
    "\n",
    "X_10_ = X[vars_all[:10]].copy()\n",
    "\n",
    "X_15_ = X[vars_all].copy()"
   ]
  },
  {
   "cell_type": "markdown",
   "metadata": {
    "id": "qyToPvle_VMM"
   },
   "source": [
    "# 5 melhores features"
   ]
  },
  {
   "cell_type": "code",
   "execution_count": 7,
   "metadata": {
    "colab": {
     "base_uri": "https://localhost:8080/",
     "height": 285
    },
    "executionInfo": {
     "elapsed": 1395,
     "status": "ok",
     "timestamp": 1620070109359,
     "user": {
      "displayName": "João Victor Assis",
      "photoUrl": "https://lh5.googleusercontent.com/-XenDusurpMw/AAAAAAAAAAI/AAAAAAAAMOA/Ns5G1bCb9x4/s64/photo.jpg",
      "userId": "05944891021518543746"
     },
     "user_tz": 180
    },
    "id": "v_MVntEC_VMM",
    "outputId": "18a3646c-837b-4b0d-9018-dc9e2cc10d59"
   },
   "outputs": [
    {
     "data": {
      "text/html": [
       "<div>\n",
       "<style scoped>\n",
       "    .dataframe tbody tr th:only-of-type {\n",
       "        vertical-align: middle;\n",
       "    }\n",
       "\n",
       "    .dataframe tbody tr th {\n",
       "        vertical-align: top;\n",
       "    }\n",
       "\n",
       "    .dataframe thead th {\n",
       "        text-align: right;\n",
       "    }\n",
       "</style>\n",
       "<table border=\"1\" class=\"dataframe\">\n",
       "  <thead>\n",
       "    <tr style=\"text-align: right;\">\n",
       "      <th></th>\n",
       "      <th>precision</th>\n",
       "      <th>recall</th>\n",
       "      <th>f1-score</th>\n",
       "      <th>support</th>\n",
       "    </tr>\n",
       "  </thead>\n",
       "  <tbody>\n",
       "    <tr>\n",
       "      <th>1.0</th>\n",
       "      <td>0.966837</td>\n",
       "      <td>0.922141</td>\n",
       "      <td>0.943960</td>\n",
       "      <td>411.000000</td>\n",
       "    </tr>\n",
       "    <tr>\n",
       "      <th>2.0</th>\n",
       "      <td>0.921114</td>\n",
       "      <td>0.963592</td>\n",
       "      <td>0.941874</td>\n",
       "      <td>412.000000</td>\n",
       "    </tr>\n",
       "    <tr>\n",
       "      <th>3.0</th>\n",
       "      <td>0.985437</td>\n",
       "      <td>0.985437</td>\n",
       "      <td>0.985437</td>\n",
       "      <td>412.000000</td>\n",
       "    </tr>\n",
       "    <tr>\n",
       "      <th>accuracy</th>\n",
       "      <td>0.957085</td>\n",
       "      <td>0.957085</td>\n",
       "      <td>0.957085</td>\n",
       "      <td>0.957085</td>\n",
       "    </tr>\n",
       "    <tr>\n",
       "      <th>macro avg</th>\n",
       "      <td>0.957796</td>\n",
       "      <td>0.957057</td>\n",
       "      <td>0.957090</td>\n",
       "      <td>1235.000000</td>\n",
       "    </tr>\n",
       "    <tr>\n",
       "      <th>weighted avg</th>\n",
       "      <td>0.957788</td>\n",
       "      <td>0.957085</td>\n",
       "      <td>0.957101</td>\n",
       "      <td>1235.000000</td>\n",
       "    </tr>\n",
       "  </tbody>\n",
       "</table>\n",
       "</div>"
      ],
      "text/plain": [
       "              precision    recall  f1-score      support\n",
       "1.0            0.966837  0.922141  0.943960   411.000000\n",
       "2.0            0.921114  0.963592  0.941874   412.000000\n",
       "3.0            0.985437  0.985437  0.985437   412.000000\n",
       "accuracy       0.957085  0.957085  0.957085     0.957085\n",
       "macro avg      0.957796  0.957057  0.957090  1235.000000\n",
       "weighted avg   0.957788  0.957085  0.957101  1235.000000"
      ]
     },
     "execution_count": 7,
     "metadata": {},
     "output_type": "execute_result"
    }
   ],
   "source": [
    "smt = SMOTE(random_state=2)\n",
    "X_5, y_5 = smt.fit_resample(X_5_, y)\n",
    "X_5_train, X_5_test, y_5_train, y_5_test = train_test_split(X_5, y_5, random_state=1, stratify=y_5)\n",
    "lr5 = RandomForestClassifier(random_state=2)\n",
    "lr5.fit(X_5_train, y_5_train)\n",
    "y_5_pred = lr5.predict(X_5_test)\n",
    "pd.DataFrame(classification_report(y_5_test, y_5_pred, output_dict=True)).T"
   ]
  },
  {
   "cell_type": "code",
   "execution_count": 8,
   "metadata": {
    "colab": {
     "base_uri": "https://localhost:8080/",
     "height": 411
    },
    "executionInfo": {
     "elapsed": 1020,
     "status": "ok",
     "timestamp": 1620070115795,
     "user": {
      "displayName": "João Victor Assis",
      "photoUrl": "https://lh5.googleusercontent.com/-XenDusurpMw/AAAAAAAAAAI/AAAAAAAAMOA/Ns5G1bCb9x4/s64/photo.jpg",
      "userId": "05944891021518543746"
     },
     "user_tz": 180
    },
    "id": "8vDJgzSL_VMN",
    "outputId": "f8637e7f-c4b8-4dd7-c9de-3b93ec943132",
    "scrolled": true
   },
   "outputs": [
    {
     "data": {
      "text/plain": [
       "<AxesSubplot:title={'left':'Matriz de confusão'}>"
      ]
     },
     "execution_count": 8,
     "metadata": {},
     "output_type": "execute_result"
    },
    {
     "data": {
      "image/png": "[encoded data removed]",
      "text/plain": [
       "<Figure size 720x432 with 2 Axes>"
      ]
     },
     "metadata": {
      "needs_background": "light"
     },
     "output_type": "display_data"
    }
   ],
   "source": [
    "fig, ax = plt.subplots(figsize=(10, 6))\n",
    "ax.set_title('Matriz de confusão', loc='left', fontsize=18)\n",
    "cf_matrix = confusion_matrix(y_5_test, y_5_pred)\n",
    "categories = ['Normal', 'Suspeito', 'Patológico']\n",
    "sns.heatmap(cf_matrix/np.sum(cf_matrix), xticklabels=categories,yticklabels=categories, annot=True,fmt='.2%', cmap='GnBu')"
   ]
  },
  {
   "cell_type": "code",
   "execution_count": 18,
   "metadata": {},
   "outputs": [],
   "source": [
    "acccuracy = accuracy_score(y_5_test, y_5_pred)\n",
    "recall = recall_score(y_5_test, y_5_pred, average=\"weighted\")\n",
    "precision = precision_score(y_5_test, y_5_pred, average=\"weighted\")"
   ]
  },
  {
   "cell_type": "code",
   "execution_count": 19,
   "metadata": {},
   "outputs": [
    {
     "name": "stdout",
     "output_type": "stream",
     "text": [
      "********* Random Forest Results ********* \n",
      "\n",
      "Accuracy - 5 vars: 0.957085020242915 \n",
      "\n",
      "Recall - 5 vars: 0.957085020242915 \n",
      "\n",
      "Precision - 5 vars: 0.957788451713665 \n",
      "\n"
     ]
    }
   ],
   "source": [
    "print(\"********* Random Forest Results ********* \\n\")\n",
    "print(\"Accuracy - 5 vars:\", acccuracy, '\\n')\n",
    "print(\"Recall - 5 vars:\", recall, '\\n')\n",
    "print(\"Precision - 5 vars:\", precision, '\\n')"
   ]
  },
  {
   "cell_type": "markdown",
   "metadata": {
    "id": "4BrFYPpS_VMN"
   },
   "source": [
    "# 10 melhores features"
   ]
  },
  {
   "cell_type": "code",
   "execution_count": 9,
   "metadata": {
    "colab": {
     "base_uri": "https://localhost:8080/",
     "height": 285
    },
    "executionInfo": {
     "elapsed": 1827,
     "status": "ok",
     "timestamp": 1620070119800,
     "user": {
      "displayName": "João Victor Assis",
      "photoUrl": "https://lh5.googleusercontent.com/-XenDusurpMw/AAAAAAAAAAI/AAAAAAAAMOA/Ns5G1bCb9x4/s64/photo.jpg",
      "userId": "05944891021518543746"
     },
     "user_tz": 180
    },
    "id": "Vb_-2iu9_VMN",
    "outputId": "f8cf5c67-c5c0-4306-9a99-59f9e4d6ab8a"
   },
   "outputs": [
    {
     "data": {
      "text/html": [
       "<div>\n",
       "<style scoped>\n",
       "    .dataframe tbody tr th:only-of-type {\n",
       "        vertical-align: middle;\n",
       "    }\n",
       "\n",
       "    .dataframe tbody tr th {\n",
       "        vertical-align: top;\n",
       "    }\n",
       "\n",
       "    .dataframe thead th {\n",
       "        text-align: right;\n",
       "    }\n",
       "</style>\n",
       "<table border=\"1\" class=\"dataframe\">\n",
       "  <thead>\n",
       "    <tr style=\"text-align: right;\">\n",
       "      <th></th>\n",
       "      <th>precision</th>\n",
       "      <th>recall</th>\n",
       "      <th>f1-score</th>\n",
       "      <th>support</th>\n",
       "    </tr>\n",
       "  </thead>\n",
       "  <tbody>\n",
       "    <tr>\n",
       "      <th>1.0</th>\n",
       "      <td>0.977330</td>\n",
       "      <td>0.944039</td>\n",
       "      <td>0.960396</td>\n",
       "      <td>411.000000</td>\n",
       "    </tr>\n",
       "    <tr>\n",
       "      <th>2.0</th>\n",
       "      <td>0.943262</td>\n",
       "      <td>0.968447</td>\n",
       "      <td>0.955689</td>\n",
       "      <td>412.000000</td>\n",
       "    </tr>\n",
       "    <tr>\n",
       "      <th>3.0</th>\n",
       "      <td>0.985542</td>\n",
       "      <td>0.992718</td>\n",
       "      <td>0.989117</td>\n",
       "      <td>412.000000</td>\n",
       "    </tr>\n",
       "    <tr>\n",
       "      <th>accuracy</th>\n",
       "      <td>0.968421</td>\n",
       "      <td>0.968421</td>\n",
       "      <td>0.968421</td>\n",
       "      <td>0.968421</td>\n",
       "    </tr>\n",
       "    <tr>\n",
       "      <th>macro avg</th>\n",
       "      <td>0.968712</td>\n",
       "      <td>0.968401</td>\n",
       "      <td>0.968401</td>\n",
       "      <td>1235.000000</td>\n",
       "    </tr>\n",
       "    <tr>\n",
       "      <th>weighted avg</th>\n",
       "      <td>0.968705</td>\n",
       "      <td>0.968421</td>\n",
       "      <td>0.968407</td>\n",
       "      <td>1235.000000</td>\n",
       "    </tr>\n",
       "  </tbody>\n",
       "</table>\n",
       "</div>"
      ],
      "text/plain": [
       "              precision    recall  f1-score      support\n",
       "1.0            0.977330  0.944039  0.960396   411.000000\n",
       "2.0            0.943262  0.968447  0.955689   412.000000\n",
       "3.0            0.985542  0.992718  0.989117   412.000000\n",
       "accuracy       0.968421  0.968421  0.968421     0.968421\n",
       "macro avg      0.968712  0.968401  0.968401  1235.000000\n",
       "weighted avg   0.968705  0.968421  0.968407  1235.000000"
      ]
     },
     "execution_count": 9,
     "metadata": {},
     "output_type": "execute_result"
    }
   ],
   "source": [
    "smt = SMOTE(random_state=2)\n",
    "X_10, y_10 = smt.fit_resample(X_10_, y)\n",
    "X_10_train, X_10_test, y_10_train, y_10_test = train_test_split(X_10, y_10, random_state=1, stratify=y_10)\n",
    "lr10 = RandomForestClassifier(random_state=2)\n",
    "lr10.fit(X_10_train, y_10_train)\n",
    "y_10_pred = lr10.predict(X_10_test)\n",
    "pd.DataFrame(classification_report(y_10_test, y_10_pred, output_dict=True)).T"
   ]
  },
  {
   "cell_type": "code",
   "execution_count": 10,
   "metadata": {
    "colab": {
     "base_uri": "https://localhost:8080/",
     "height": 411
    },
    "executionInfo": {
     "elapsed": 1386,
     "status": "ok",
     "timestamp": 1620070122029,
     "user": {
      "displayName": "João Victor Assis",
      "photoUrl": "https://lh5.googleusercontent.com/-XenDusurpMw/AAAAAAAAAAI/AAAAAAAAMOA/Ns5G1bCb9x4/s64/photo.jpg",
      "userId": "05944891021518543746"
     },
     "user_tz": 180
    },
    "id": "Yj4Y8MRm_VMO",
    "outputId": "ee2342e8-5457-48af-c33d-52df69825d3c"
   },
   "outputs": [
    {
     "data": {
      "text/plain": [
       "<AxesSubplot:title={'left':'Matriz de confusão'}>"
      ]
     },
     "execution_count": 10,
     "metadata": {},
     "output_type": "execute_result"
    },
    {
     "data": {
      "image/png": "[encoded data removed]",
      "text/plain": [
       "<Figure size 720x432 with 2 Axes>"
      ]
     },
     "metadata": {
      "needs_background": "light"
     },
     "output_type": "display_data"
    }
   ],
   "source": [
    "fig, ax = plt.subplots(figsize=(10, 6))\n",
    "ax.set_title('Matriz de confusão', loc='left', fontsize=18)\n",
    "cf_matrix = confusion_matrix(y_10_test, y_10_pred)\n",
    "categories = ['Normal', 'Suspeito', 'Patológico']\n",
    "sns.heatmap(cf_matrix/np.sum(cf_matrix), xticklabels=categories,yticklabels=categories, annot=True,fmt='.2%', cmap='GnBu')"
   ]
  },
  {
   "cell_type": "code",
   "execution_count": 20,
   "metadata": {},
   "outputs": [],
   "source": [
    "acccuracy = accuracy_score(y_10_test, y_10_pred)\n",
    "recall = recall_score(y_10_test, y_10_pred, average=\"weighted\")\n",
    "precision = precision_score(y_10_test, y_10_pred, average=\"weighted\")"
   ]
  },
  {
   "cell_type": "code",
   "execution_count": 21,
   "metadata": {},
   "outputs": [
    {
     "name": "stdout",
     "output_type": "stream",
     "text": [
      "********* Random Forest Results ********* \n",
      "\n",
      "Accuracy - 10 vars: 0.968421052631579 \n",
      "\n",
      "Recall - 10 vars: 0.968421052631579 \n",
      "\n",
      "Precision - 10 vars: 0.9687045397704521 \n",
      "\n"
     ]
    }
   ],
   "source": [
    "print(\"********* Random Forest Results ********* \\n\")\n",
    "print(\"Accuracy - 10 vars:\", acccuracy, '\\n')\n",
    "print(\"Recall - 10 vars:\", recall, '\\n')\n",
    "print(\"Precision - 10 vars:\", precision, '\\n')"
   ]
  },
  {
   "cell_type": "markdown",
   "metadata": {
    "executionInfo": {
     "elapsed": 889,
     "status": "ok",
     "timestamp": 1620070126580,
     "user": {
      "displayName": "João Victor Assis",
      "photoUrl": "https://lh5.googleusercontent.com/-XenDusurpMw/AAAAAAAAAAI/AAAAAAAAMOA/Ns5G1bCb9x4/s64/photo.jpg",
      "userId": "05944891021518543746"
     },
     "user_tz": 180
    },
    "id": "ViWmfRr8_VMO"
   },
   "source": [
    "# 15 melhores features"
   ]
  },
  {
   "cell_type": "code",
   "execution_count": 11,
   "metadata": {
    "colab": {
     "base_uri": "https://localhost:8080/",
     "height": 301
    },
    "executionInfo": {
     "elapsed": 1843,
     "status": "ok",
     "timestamp": 1620070455485,
     "user": {
      "displayName": "João Victor Assis",
      "photoUrl": "https://lh5.googleusercontent.com/-XenDusurpMw/AAAAAAAAAAI/AAAAAAAAMOA/Ns5G1bCb9x4/s64/photo.jpg",
      "userId": "05944891021518543746"
     },
     "user_tz": 180
    },
    "id": "n3pKOWXy_VMP",
    "outputId": "8b8e3256-ddc7-434f-8588-0c01cb8f5f5d"
   },
   "outputs": [
    {
     "data": {
      "text/html": [
       "<div>\n",
       "<style scoped>\n",
       "    .dataframe tbody tr th:only-of-type {\n",
       "        vertical-align: middle;\n",
       "    }\n",
       "\n",
       "    .dataframe tbody tr th {\n",
       "        vertical-align: top;\n",
       "    }\n",
       "\n",
       "    .dataframe thead th {\n",
       "        text-align: right;\n",
       "    }\n",
       "</style>\n",
       "<table border=\"1\" class=\"dataframe\">\n",
       "  <thead>\n",
       "    <tr style=\"text-align: right;\">\n",
       "      <th></th>\n",
       "      <th>precision</th>\n",
       "      <th>recall</th>\n",
       "      <th>f1-score</th>\n",
       "      <th>support</th>\n",
       "    </tr>\n",
       "  </thead>\n",
       "  <tbody>\n",
       "    <tr>\n",
       "      <th>1.0</th>\n",
       "      <td>0.979798</td>\n",
       "      <td>0.944039</td>\n",
       "      <td>0.961586</td>\n",
       "      <td>411.000000</td>\n",
       "    </tr>\n",
       "    <tr>\n",
       "      <th>2.0</th>\n",
       "      <td>0.938824</td>\n",
       "      <td>0.968447</td>\n",
       "      <td>0.953405</td>\n",
       "      <td>412.000000</td>\n",
       "    </tr>\n",
       "    <tr>\n",
       "      <th>3.0</th>\n",
       "      <td>0.983092</td>\n",
       "      <td>0.987864</td>\n",
       "      <td>0.985472</td>\n",
       "      <td>412.000000</td>\n",
       "    </tr>\n",
       "    <tr>\n",
       "      <th>accuracy</th>\n",
       "      <td>0.966802</td>\n",
       "      <td>0.966802</td>\n",
       "      <td>0.966802</td>\n",
       "      <td>0.966802</td>\n",
       "    </tr>\n",
       "    <tr>\n",
       "      <th>macro avg</th>\n",
       "      <td>0.967238</td>\n",
       "      <td>0.966783</td>\n",
       "      <td>0.966821</td>\n",
       "      <td>1235.000000</td>\n",
       "    </tr>\n",
       "    <tr>\n",
       "      <th>weighted avg</th>\n",
       "      <td>0.967228</td>\n",
       "      <td>0.966802</td>\n",
       "      <td>0.966825</td>\n",
       "      <td>1235.000000</td>\n",
       "    </tr>\n",
       "  </tbody>\n",
       "</table>\n",
       "</div>"
      ],
      "text/plain": [
       "              precision    recall  f1-score      support\n",
       "1.0            0.979798  0.944039  0.961586   411.000000\n",
       "2.0            0.938824  0.968447  0.953405   412.000000\n",
       "3.0            0.983092  0.987864  0.985472   412.000000\n",
       "accuracy       0.966802  0.966802  0.966802     0.966802\n",
       "macro avg      0.967238  0.966783  0.966821  1235.000000\n",
       "weighted avg   0.967228  0.966802  0.966825  1235.000000"
      ]
     },
     "execution_count": 11,
     "metadata": {},
     "output_type": "execute_result"
    }
   ],
   "source": [
    "smt = SMOTE(random_state=2)\n",
    "X_15, y_15 = smt.fit_resample(X_15_, y)\n",
    "X_15_train, X_15_test, y_15_train, y_15_test = train_test_split(X_15, y_15, random_state=1, stratify=y_15)\n",
    "lr15 = RandomForestClassifier(random_state=2)\n",
    "lr15.fit(X_15_train, y_15_train)\n",
    "y_15_pred = lr15.predict(X_15_test)\n",
    "pd.DataFrame(classification_report(y_15_test, y_15_pred, output_dict=True)).T"
   ]
  },
  {
   "cell_type": "code",
   "execution_count": 23,
   "metadata": {
    "colab": {
     "base_uri": "https://localhost:8080/",
     "height": 411
    },
    "executionInfo": {
     "elapsed": 1367,
     "status": "ok",
     "timestamp": 1620070468268,
     "user": {
      "displayName": "João Victor Assis",
      "photoUrl": "https://lh5.googleusercontent.com/-XenDusurpMw/AAAAAAAAAAI/AAAAAAAAMOA/Ns5G1bCb9x4/s64/photo.jpg",
      "userId": "05944891021518543746"
     },
     "user_tz": 180
    },
    "id": "KSrWe_j7_VMP",
    "outputId": "9fc1f204-d0fd-4e2f-a30b-cfd58f078b99"
   },
   "outputs": [
    {
     "data": {
      "text/plain": [
       "<matplotlib.axes._subplots.AxesSubplot at 0x7f6829959050>"
      ]
     },
     "execution_count": 23,
     "metadata": {
      "tags": []
     },
     "output_type": "execute_result"
    },
    {
     "data": {
      "image/png": "[encoded data removed]",
      "text/plain": [
       "<Figure size 720x432 with 2 Axes>"
      ]
     },
     "metadata": {
      "needs_background": "light",
      "tags": []
     },
     "output_type": "display_data"
    }
   ],
   "source": [
    "fig, ax = plt.subplots(figsize=(10, 6))\n",
    "ax.set_title('Matriz de confusão', loc='left', fontsize=18)\n",
    "cf_matrix = confusion_matrix(y_15_test, y_15_pred)\n",
    "categories = ['Normal', 'Suspeito', 'Patológico']\n",
    "sns.heatmap(cf_matrix/np.sum(cf_matrix), xticklabels=categories,yticklabels=categories, annot=True,fmt='.2%', cmap='GnBu')"
   ]
  },
  {
   "cell_type": "code",
   "execution_count": 14,
   "metadata": {
    "colab": {
     "base_uri": "https://localhost:8080/",
     "height": 223
    },
    "executionInfo": {
     "elapsed": 638,
     "status": "error",
     "timestamp": 1620070333931,
     "user": {
      "displayName": "João Victor Assis",
      "photoUrl": "https://lh5.googleusercontent.com/-XenDusurpMw/AAAAAAAAAAI/AAAAAAAAMOA/Ns5G1bCb9x4/s64/photo.jpg",
      "userId": "05944891021518543746"
     },
     "user_tz": 180
    },
    "id": "XUYBMYBLtHhN",
    "outputId": "0bb20b43-1d59-41c0-fdd7-cfac706ded4c"
   },
   "outputs": [],
   "source": [
    "acccuracy = accuracy_score(y_15_test, y_15_pred)\n",
    "recall = recall_score(y_15_test, y_15_pred, average=\"weighted\")\n",
    "precision = precision_score(y_15_test, y_15_pred, average=\"weighted\")"
   ]
  },
  {
   "cell_type": "code",
   "execution_count": 17,
   "metadata": {},
   "outputs": [
    {
     "name": "stdout",
     "output_type": "stream",
     "text": [
      "********* Random Forest Results ********* \n",
      "\n",
      "Accuracy - 15 vars: 0.9668016194331984 \n",
      "\n",
      "Recall - 15 vars: 0.9668016194331984 \n",
      "\n",
      "Precision - 15 vars: 0.9672275953358198 \n",
      "\n"
     ]
    }
   ],
   "source": [
    "print(\"********* Random Forest Results ********* \\n\")\n",
    "print(\"Accuracy - 15 vars:\", acccuracy, '\\n')\n",
    "print(\"Recall - 15 vars:\", recall, '\\n')\n",
    "print(\"Precision - 15 vars:\", precision, '\\n')"
   ]
  }
 ],
 "metadata": {
  "colab": {
   "collapsed_sections": [],
   "name": "modelo_lr.ipynb",
   "provenance": []
  },
  "kernelspec": {
   "display_name": "Python 3",
   "language": "python",
   "name": "python3"
  },
  "language_info": {
   "codemirror_mode": {
    "name": "ipython",
    "version": 3
   },
   "file_extension": ".py",
   "mimetype": "text/x-python",
   "name": "python",
   "nbconvert_exporter": "python",
   "pygments_lexer": "ipython3",
   "version": "3.8.5"
  }
 },
 "nbformat": 4,
 "nbformat_minor": 1
}
